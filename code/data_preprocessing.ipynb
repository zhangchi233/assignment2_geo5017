{
 "cells": [
  {
   "cell_type": "code",
   "execution_count": 1,
   "id": "9eb77db0-e278-448e-833a-cc6621366c91",
   "metadata": {},
   "outputs": [],
   "source": [
    "import os"
   ]
  },
  {
   "cell_type": "code",
   "execution_count": 2,
   "id": "521801e9-abf1-49b5-b502-0186c0592e5d",
   "metadata": {},
   "outputs": [],
   "source": [
    "import numpy as np\n",
    "from scipy.spatial import KDTree"
   ]
  },
  {
   "cell_type": "markdown",
   "id": "6633f318-2166-4699-bd1a-481bd4fc0ff1",
   "metadata": {},
   "source": [
    "# here is cells to read files"
   ]
  },
  {
   "cell_type": "markdown",
   "id": "323c49c2-8860-4def-b6b8-9ecb9f9c779b",
   "metadata": {},
   "source": [
    "## chage to directory of dataset"
   ]
  },
  {
   "cell_type": "code",
   "execution_count": 3,
   "id": "30a04068-374c-40c2-aaec-5a94d8844812",
   "metadata": {},
   "outputs": [],
   "source": [
    "data_path = \"../data/pointclouds\"\n",
    "data_files = os.listdir(data_path)"
   ]
  },
  {
   "cell_type": "markdown",
   "id": "c1d3f7de-558e-4325-88f1-46a3c04fbe47",
   "metadata": {},
   "source": [
    "## iterate each sample files and label it"
   ]
  },
  {
   "cell_type": "markdown",
   "id": "33d1162c-4360-495d-917f-b1cba55a97e8",
   "metadata": {},
   "source": [
    "000 - 099: building\n",
    "100 - 199: car\n",
    "200 - 299: fence\n",
    "300 - 399: pole\n",
    "400 - 499: tree"
   ]
  },
  {
   "cell_type": "code",
   "execution_count": 4,
   "id": "33c7d944-8344-4e26-8517-23bc1b7e7b46",
   "metadata": {},
   "outputs": [
    {
     "name": "stdout",
     "output_type": "stream",
     "text": [
      "500\n",
      "500\n"
     ]
    }
   ],
   "source": [
    "points_cluster_label=[]\n",
    "points_cluster_kdtree = []\n",
    "def read_data(cluster_label,point_cluster,file,data_path):\n",
    "    file_path = data_path+\"/\"+file\n",
    "    #print(file_path)\n",
    "    #print(os.getcwd())\n",
    "    \n",
    "    with open(file_path,'r',encoding='utf-8') as f:\n",
    "        line_points = f.readlines()\n",
    "        inserted_point = []\n",
    "        \n",
    "        file_code = file.split(\".\")[0]\n",
    "        file_code = int(file_code)\n",
    "        # label it according to the index of files\n",
    "        file_label = file_code//100\n",
    "        for one_line in line_points:\n",
    "            x,y,z = [float(coord) for coord in one_line.strip().split(\" \")]\n",
    "            #print(file,one_line)\n",
    "            inserted_point.append([x,y,z])\n",
    "        #print(inserted_point)\n",
    "        # store data structure is kdtree\n",
    "        one_tree = KDTree(np.array(inserted_point))\n",
    "        \n",
    "        cluster_label.append(file_label)\n",
    "        point_cluster.append(one_tree)\n",
    "for file in data_files:\n",
    "    \n",
    "    read_data(points_cluster_label,points_cluster_kdtree,file,data_path)\n",
    "    \n",
    "print(len(points_cluster_label))\n",
    "print(len(points_cluster_kdtree))"
   ]
  },
  {
   "cell_type": "code",
   "execution_count": 5,
   "id": "a2a26a56-365b-4a16-a4c1-3498334c4c57",
   "metadata": {},
   "outputs": [],
   "source": [
    "multi_scales = [10,20,30,40,50]\n",
    "points_label=[]\n",
    "points_features=[]\n",
    "points_eigenvalues=[]\n",
    "cluster_eigenvalues=[]\n",
    "sample_labels=[]"
   ]
  },
  {
   "cell_type": "code",
   "execution_count": 6,
   "id": "47dce8b8-b8eb-4bf8-ab83-4490d6586ff5",
   "metadata": {},
   "outputs": [],
   "source": [
    "def extract_cluster_eigenvalues(points_cluster_kdtree,points_cluster_label,\\\n",
    "                               sample_labels,cluster_eigenvalues):\n",
    "    for OneTree,label in zip(points_cluster_kdtree,points_cluster_label):\n",
    "        selected_points = OneTree.data\n",
    "        \n",
    "            \n",
    "        cov_martrix = np.cov(selected_points,rowvar=False)\n",
    "            \n",
    "        eigen_values = np.linalg.eigvals(cov_martrix)\n",
    "        eigen_values.sort()\n",
    "        eigen_values= list(eigen_values)\n",
    "        lambda1,lambda2,lambda3 = eigen_values\n",
    "        #eigen_values.append((lambda3-lambda2)/lambda3)\n",
    "        #eigen_values.append((lambda2-lambda1)/lambda3)\n",
    "        #eigen_values.append((lambda1)/lambda3)\n",
    "        Z_RANGE = max(selected_points[:,2])-min(selected_points[:,2])\n",
    "        Y_RANGE =max(selected_points[:,1])-min(selected_points[:,1])\n",
    "        X_RANGE =max(selected_points[:,0])-min(selected_points[:,0])\n",
    "        eigen_values+=list(cov_martrix[0])\n",
    "        eigen_values.append(Z_RANGE)\n",
    "        eigen_values.append(X_RANGE)\n",
    "        eigen_values.append(Y_RANGE)\n",
    "        \n",
    "        \n",
    "        cluster_eigenvalues.append(eigen_values)\n",
    "            \n",
    "        sample_labels.append(label)\n",
    "extract_cluster_eigenvalues(points_cluster_kdtree,points_cluster_label,\\\n",
    "                               sample_labels,cluster_eigenvalues)\n",
    "import pickle\n",
    "with open(\"../data\"+\"/\"+\"cluster_eigenvalues.txt\",'wb') as sf:\n",
    "    pickle.dump(cluster_eigenvalues, sf, pickle.HIGHEST_PROTOCOL)  \n",
    "\n",
    "with open(\"../data\"+\"/\"+\"cluster_labels.txt\",'wb') as sf:\n",
    "    pickle.dump(sample_labels, sf, pickle.HIGHEST_PROTOCOL)"
   ]
  },
  {
   "cell_type": "code",
   "execution_count": 7,
   "id": "17c87d5a-559f-4e3e-9e7c-e00c4c220ef0",
   "metadata": {},
   "outputs": [
    {
     "data": {
      "text/plain": [
       "500"
      ]
     },
     "execution_count": 7,
     "metadata": {},
     "output_type": "execute_result"
    }
   ],
   "source": [
    "len(sample_labels)"
   ]
  },
  {
   "cell_type": "code",
   "execution_count": null,
   "id": "9ee43c95-fc3c-49a2-b9d6-cc94113f484c",
   "metadata": {},
   "outputs": [],
   "source": []
  },
  {
   "cell_type": "code",
   "execution_count": 8,
   "id": "e65a7bbb-5174-4bcc-8ea1-59e4ed740e78",
   "metadata": {},
   "outputs": [],
   "source": [
    "def extract_points_eigenvalues(points_cluster_kdtree,points_cluster_label,\\\n",
    "                               points_label,multi_scale):\n",
    "    scale = max(multi_scales)\n",
    "    for OneTree,label in zip(points_cluster_kdtree,points_cluster_label):\n",
    "        points = OneTree.data\n",
    "        for point in points:\n",
    "            #print(point)\n",
    "            d,selected_points =OneTree.query(x=point, k=scale, workers=5)\n",
    "            selected_points = points[selected_points]\n",
    "            \n",
    "            cov_martrix = np.cov(selected_points,rowvar=False)\n",
    "            \n",
    "            eigen_values = np.linalg.eigvals(cov_martrix)\n",
    "            points_eigenvalues.append(eigen_values)\n",
    "            \n",
    "            points_label.append(label)\n",
    "\n",
    "extract_points_eigenvalues(points_cluster_kdtree,points_cluster_label,\\\n",
    "                               points_label,multi_scales)       "
   ]
  },
  {
   "cell_type": "code",
   "execution_count": 9,
   "id": "3ee25c32-39b5-42fc-a7fe-2478ffa641df",
   "metadata": {},
   "outputs": [],
   "source": [
    "import pickle\n",
    "with open(\"../data\"+\"/\"+\"eigenvalues.txt\",'wb') as sf:\n",
    "    pickle.dump(points_eigenvalues, sf, pickle.HIGHEST_PROTOCOL)"
   ]
  },
  {
   "cell_type": "code",
   "execution_count": 10,
   "id": "28a90cfd-f041-4d36-ae5d-0104cbbcb999",
   "metadata": {},
   "outputs": [
    {
     "name": "stdout",
     "output_type": "stream",
     "text": [
      "1276507\n"
     ]
    }
   ],
   "source": [
    "print(len(points_label))"
   ]
  },
  {
   "cell_type": "code",
   "execution_count": 11,
   "id": "7287c515-dad7-4c2c-bc1b-d666daf44025",
   "metadata": {},
   "outputs": [
    {
     "name": "stdout",
     "output_type": "stream",
     "text": [
      "1276507\n",
      "034.xyz\n"
     ]
    }
   ],
   "source": [
    "print(len(points_eigenvalues))\n",
    "print(file)"
   ]
  },
  {
   "cell_type": "code",
   "execution_count": 12,
   "id": "0d2cb3ff-887f-451f-a3b3-80087d59b964",
   "metadata": {},
   "outputs": [],
   "source": [
    "\n",
    "with open(\"../data\"+\"/\"+\"point_labels.txt\",'wb') as sf:\n",
    "    pickle.dump(points_label, sf, pickle.HIGHEST_PROTOCOL)"
   ]
  },
  {
   "cell_type": "code",
   "execution_count": null,
   "id": "e72ec110-d5c2-4c84-87f1-61c69d073f9d",
   "metadata": {},
   "outputs": [],
   "source": []
  }
 ],
 "metadata": {
  "kernelspec": {
   "display_name": "Python 3 (ipykernel)",
   "language": "python",
   "name": "python3"
  },
  "language_info": {
   "codemirror_mode": {
    "name": "ipython",
    "version": 3
   },
   "file_extension": ".py",
   "mimetype": "text/x-python",
   "name": "python",
   "nbconvert_exporter": "python",
   "pygments_lexer": "ipython3",
   "version": "3.7.13"
  }
 },
 "nbformat": 4,
 "nbformat_minor": 5
}
