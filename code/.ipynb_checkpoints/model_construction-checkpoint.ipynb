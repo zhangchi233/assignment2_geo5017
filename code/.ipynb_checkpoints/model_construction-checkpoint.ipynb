{
 "cells": [
  {
   "cell_type": "code",
   "execution_count": 4,
   "id": "2e7a790b-1fad-4cee-939f-300880befe55",
   "metadata": {},
   "outputs": [],
   "source": [
    "import os\n",
    "data_path=\"../data\""
   ]
  },
  {
   "cell_type": "code",
   "execution_count": 6,
   "id": "cd79f47d-83bd-4cd5-9c78-3c5177b31230",
   "metadata": {},
   "outputs": [
    {
     "data": {
      "text/plain": [
       "'/Users/asdfasd/Downloads/cs4220/machine learning for built environment/GEO5017-A2-Classification/GEO5017-A2-Classification/data/pointclouds'"
      ]
     },
     "execution_count": 6,
     "metadata": {},
     "output_type": "execute_result"
    }
   ],
   "source": [
    "os.getcwd()"
   ]
  },
  {
   "cell_type": "code",
   "execution_count": null,
   "id": "62abaaaa-7ecc-4e67-8144-13b92b1202c8",
   "metadata": {},
   "outputs": [],
   "source": []
  }
 ],
 "metadata": {
  "kernelspec": {
   "display_name": "Python 3 (ipykernel)",
   "language": "python",
   "name": "python3"
  },
  "language_info": {
   "codemirror_mode": {
    "name": "ipython",
    "version": 3
   },
   "file_extension": ".py",
   "mimetype": "text/x-python",
   "name": "python",
   "nbconvert_exporter": "python",
   "pygments_lexer": "ipython3",
   "version": "3.7.13"
  }
 },
 "nbformat": 4,
 "nbformat_minor": 5
}
