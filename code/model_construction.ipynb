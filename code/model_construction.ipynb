{
 "cells": [
  {
   "cell_type": "code",
   "execution_count": 3,
   "id": "2e7a790b-1fad-4cee-939f-300880befe55",
   "metadata": {},
   "outputs": [],
   "source": [
    "import os\n",
    "import pickle\n",
    "import numpy as np\n",
    "import sklearn\n",
    "data_path = \"../data\"\n"
   ]
  },
  {
   "cell_type": "code",
   "execution_count": 4,
   "id": "cd79f47d-83bd-4cd5-9c78-3c5177b31230",
   "metadata": {},
   "outputs": [],
   "source": [
    "with open(data_path+\"/\"+\"cluster_eigenvalues.txt\",'rb') as rf:\n",
    "    eigenvalues = pickle.load(rf)\n",
    "with open(data_path+\"/\"+\"cluster_labels.txt\",'rb') as rf:\n",
    "    pointlabels = pickle.load(rf)"
   ]
  },
  {
   "cell_type": "code",
   "execution_count": 5,
   "id": "62abaaaa-7ecc-4e67-8144-13b92b1202c8",
   "metadata": {},
   "outputs": [],
   "source": [
    "eigenvalues = np.array(eigenvalues)\n",
    "pointlabels = np.array(pointlabels)\n",
    "pointslabels = pointlabels.reshape((-1,1))"
   ]
  },
  {
   "cell_type": "code",
   "execution_count": 6,
   "id": "53eb25db-5d85-4123-a0e3-eee31457c58a",
   "metadata": {},
   "outputs": [
    {
     "name": "stdout",
     "output_type": "stream",
     "text": [
      "(500, 9) (500,)\n"
     ]
    }
   ],
   "source": [
    "print(eigenvalues.shape,pointlabels.shape)\n"
   ]
  },
  {
   "cell_type": "code",
   "execution_count": 7,
   "id": "3e820031-50c2-4d3d-a4cd-10f45d75bcf3",
   "metadata": {},
   "outputs": [],
   "source": [
    "from sklearn.model_selection import train_test_split\n",
    "from sklearn import svm, metrics\n",
    "\n"
   ]
  },
  {
   "cell_type": "code",
   "execution_count": 8,
   "id": "4d39a44d-a82c-4d19-9242-9570fd5e438b",
   "metadata": {},
   "outputs": [],
   "source": [
    "X_train, X_test, y_train, y_test = \\\n",
    "    train_test_split(eigenvalues, pointlabels, test_size=0.333, random_state=42)\n"
   ]
  },
  {
   "cell_type": "code",
   "execution_count": 9,
   "id": "2140bff6-12ef-473f-a329-7f2fd35fa9d6",
   "metadata": {},
   "outputs": [
    {
     "data": {
      "text/plain": [
       "SVC(C=10, gamma=0.05)"
      ]
     },
     "execution_count": 9,
     "metadata": {},
     "output_type": "execute_result"
    }
   ],
   "source": [
    "clf = svm.SVC(C=10,gamma=0.05)\n",
    "clf.fit(X_train, y_train)"
   ]
  },
  {
   "cell_type": "code",
   "execution_count": 10,
   "id": "d07a2593-b3d4-43c0-844d-993cbf683858",
   "metadata": {},
   "outputs": [
    {
     "name": "stdout",
     "output_type": "stream",
     "text": [
      "Classification report for classifier SVC(C=10, gamma=0.05):\n",
      "              precision    recall  f1-score   support\n",
      "\n",
      "           0       0.96      0.90      0.93        29\n",
      "           1       0.91      1.00      0.95        29\n",
      "           2       0.85      0.92      0.88        37\n",
      "           3       1.00      0.82      0.90        38\n",
      "           4       0.89      0.97      0.93        34\n",
      "\n",
      "    accuracy                           0.92       167\n",
      "   macro avg       0.92      0.92      0.92       167\n",
      "weighted avg       0.92      0.92      0.92       167\n",
      "\n",
      "\n"
     ]
    }
   ],
   "source": [
    "predicted = clf.predict(X_test)\n",
    "print(\n",
    "    f\"Classification report for classifier {clf}:\\n\"\n",
    "    f\"{metrics.classification_report(y_test, predicted)}\\n\"\n",
    ")"
   ]
  },
  {
   "cell_type": "code",
   "execution_count": 11,
   "id": "18000bcd-8310-4b4f-96db-fefb292d7a2d",
   "metadata": {},
   "outputs": [
    {
     "data": {
      "image/png": "[encoded data removed]",
      "text/plain": [
       "<Figure size 640x480 with 2 Axes>"
      ]
     },
     "metadata": {},
     "output_type": "display_data"
    }
   ],
   "source": [
    "import matplotlib.pyplot as plt\n",
    "from sklearn.datasets import make_classification\n",
    "from sklearn.metrics import confusion_matrix, ConfusionMatrixDisplay\n",
    "\n",
    "\n",
    "predictions = clf.predict(X_test)\n",
    "cm = confusion_matrix(y_test, predictions, labels=clf.classes_)\n",
    "disp = ConfusionMatrixDisplay(confusion_matrix=cm,display_labels=clf.classes_)\n",
    "disp.plot()\n",
    "\n",
    "plt.show()"
   ]
  },
  {
   "cell_type": "code",
   "execution_count": null,
   "id": "d7ed0b94-c345-407b-8b61-90122853ee1f",
   "metadata": {},
   "outputs": [],
   "source": []
  },
  {
   "cell_type": "code",
   "execution_count": null,
   "id": "c55eacda-dc3c-4711-9f34-04b0bf5ba845",
   "metadata": {},
   "outputs": [],
   "source": []
  }
 ],
 "metadata": {
  "kernelspec": {
   "display_name": "Python 3 (ipykernel)",
   "language": "python",
   "name": "python3"
  },
  "language_info": {
   "codemirror_mode": {
    "name": "ipython",
    "version": 3
   },
   "file_extension": ".py",
   "mimetype": "text/x-python",
   "name": "python",
   "nbconvert_exporter": "python",
   "pygments_lexer": "ipython3",
   "version": "3.7.13"
  }
 },
 "nbformat": 4,
 "nbformat_minor": 5
}
